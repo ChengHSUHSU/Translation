{
 "cells": [
  {
   "cell_type": "code",
   "execution_count": null,
   "id": "3a11820c-32c1-4ab2-ad08-ec50f4d53a72",
   "metadata": {},
   "outputs": [],
   "source": []
  },
  {
   "cell_type": "code",
   "execution_count": null,
   "id": "3f5ab344-992d-4cb0-8c55-1dbd94d2387a",
   "metadata": {},
   "outputs": [],
   "source": []
  },
  {
   "cell_type": "code",
   "execution_count": 3,
   "id": "a2e2eee9-e1f8-4c94-abf9-4312551ae65d",
   "metadata": {},
   "outputs": [],
   "source": [
    "from transformers import AutoTokenizer\n",
    "from transformers import AutoModelForSeq2SeqLM"
   ]
  },
  {
   "cell_type": "code",
   "execution_count": 4,
   "id": "2cba087a-84e9-4270-995e-b645cdd9b2d9",
   "metadata": {},
   "outputs": [],
   "source": [
    "model_name = 'Helsinki-NLP/opus-mt-en-zh'"
   ]
  },
  {
   "cell_type": "code",
   "execution_count": 5,
   "id": "725523fb-37ee-4865-9407-ea76f4057e1a",
   "metadata": {},
   "outputs": [],
   "source": [
    "tokenizer = AutoTokenizer.from_pretrained(model_name)\n",
    "model = AutoModelForSeq2SeqLM.from_pretrained(model_name)"
   ]
  },
  {
   "cell_type": "code",
   "execution_count": 12,
   "id": "f508f979-f0ff-4a90-8042-b67039dee261",
   "metadata": {},
   "outputs": [],
   "source": [
    "sentences = [\"The house is wonderful.\", \"I like to work in u.6v \", \"My favorite food is instant noodle.\"]\n",
    "inputs = tokenizer(sentences, return_tensors=\"pt\", padding=True)"
   ]
  },
  {
   "cell_type": "code",
   "execution_count": 13,
   "id": "5f3b1eb0-0b41-41bf-a8ca-efefb062b1be",
   "metadata": {},
   "outputs": [],
   "source": [
    "# inference\n",
    "output_sequences = model.generate(input_ids=inputs[\"input_ids\"],\n",
    "                                  attention_mask=inputs[\"attention_mask\"],\n",
    "                                  do_sample=False,\n",
    "                                  output_attentions=True,\n",
    "                                  output_hidden_states=True,\n",
    "                                  output_scores=True,\n",
    "                                  return_dict_in_generate=True)"
   ]
  },
  {
   "cell_type": "code",
   "execution_count": 14,
   "id": "38d19c1d-d63a-49c2-849e-a40967f1433b",
   "metadata": {},
   "outputs": [
    {
     "data": {
      "text/plain": [
       "odict_keys(['sequences', 'sequences_scores', 'scores', 'beam_indices', 'encoder_attentions', 'encoder_hidden_states', 'decoder_attentions', 'cross_attentions', 'decoder_hidden_states'])"
      ]
     },
     "execution_count": 14,
     "metadata": {},
     "output_type": "execute_result"
    }
   ],
   "source": [
    "output_sequences.keys()"
   ]
  },
  {
   "cell_type": "code",
   "execution_count": 15,
   "id": "3b1b0939-1129-4f67-bfa4-f29f6b633787",
   "metadata": {},
   "outputs": [
    {
     "data": {
      "text/plain": [
       "tensor([[65000,   789, 10095,    72, 37908,    12,    10,     0, 65000, 65000],\n",
       "        [65000, 13565,    38,   179,     6,     8,   135,  4068,   198,     0],\n",
       "        [65000,   105, 42279,  6448,    72,   524,  6357,  2162,     0, 65000]])"
      ]
     },
     "execution_count": 15,
     "metadata": {},
     "output_type": "execute_result"
    }
   ],
   "source": [
    "sequences = output_sequences['sequences']\n",
    "sequences"
   ]
  },
  {
   "cell_type": "code",
   "execution_count": 16,
   "id": "ef17a299-5e16-418c-be68-d206e69472f3",
   "metadata": {},
   "outputs": [
    {
     "data": {
      "text/plain": [
       "['这房子是美妙的。', '我喜欢在e. 6v工作', '我最喜欢的食物是即食面']"
      ]
     },
     "execution_count": 16,
     "metadata": {},
     "output_type": "execute_result"
    }
   ],
   "source": [
    "translated_sents = tokenizer.batch_decode(sequences, skip_special_tokens=True)\n",
    "translated_sents"
   ]
  },
  {
   "cell_type": "code",
   "execution_count": 17,
   "id": "0c391946-4221-4727-8d50-01c8be8b7d4e",
   "metadata": {},
   "outputs": [
    {
     "data": {
      "text/plain": [
       "['這房子是美妙的。', '我喜歡在e. 6v工作', '我最喜歡的食物是即食麪']"
      ]
     },
     "execution_count": 17,
     "metadata": {},
     "output_type": "execute_result"
    }
   ],
   "source": [
    "from opencc import OpenCC\n",
    "cc = OpenCC('s2t')\n",
    "translated_sents = [cc.convert(sent) for sent in translated_sents]\n",
    "translated_sents"
   ]
  },
  {
   "cell_type": "code",
   "execution_count": null,
   "id": "f4448d52-3350-4938-91ed-1adab6276528",
   "metadata": {},
   "outputs": [],
   "source": []
  },
  {
   "cell_type": "code",
   "execution_count": 22,
   "id": "994ebff2-becc-4236-94a1-0e53d6f433eb",
   "metadata": {},
   "outputs": [],
   "source": [
    "# training\n",
    "sentences = [\"The house is wonderful.\", \"I like to work in u.6v\"]\n",
    "label_seq = ['这房子是美妙的。', '我喜欢在e. 6v工作']\n",
    "inputs = tokenizer(sentences, return_tensors=\"pt\", padding=True)\n",
    "label_inputs = tokenizer(label_seq, return_tensors=\"pt\", padding=True)\n",
    "training_info = model(input_ids=inputs[\"input_ids\"], \n",
    "                      attention_mask=inputs[\"attention_mask\"],\n",
    "                      labels=label_inputs['input_ids'],\n",
    "                      output_attentions=True, \n",
    "                      output_hidden_states=True, \n",
    "                      return_dict=True)"
   ]
  },
  {
   "cell_type": "code",
   "execution_count": 23,
   "id": "a3aa7aab-8d4b-4a3b-b64f-67f85a62cac0",
   "metadata": {},
   "outputs": [
    {
     "data": {
      "text/plain": [
       "odict_keys(['loss', 'logits', 'decoder_hidden_states', 'decoder_attentions', 'cross_attentions', 'encoder_last_hidden_state', 'encoder_hidden_states', 'encoder_attentions'])"
      ]
     },
     "execution_count": 23,
     "metadata": {},
     "output_type": "execute_result"
    }
   ],
   "source": [
    "training_info.keys()"
   ]
  },
  {
   "cell_type": "code",
   "execution_count": 24,
   "id": "1e8de975-b770-4d5a-8a27-76b8e0d9e63c",
   "metadata": {},
   "outputs": [
    {
     "data": {
      "text/plain": [
       "tensor(3.8880, grad_fn=<NllLossBackward>)"
      ]
     },
     "execution_count": 24,
     "metadata": {},
     "output_type": "execute_result"
    }
   ],
   "source": [
    "loss = training_info['loss']\n",
    "loss.backward()\n",
    "loss"
   ]
  },
  {
   "cell_type": "code",
   "execution_count": null,
   "id": "4edd7266-d584-453f-bb12-0d136d889a77",
   "metadata": {},
   "outputs": [],
   "source": []
  },
  {
   "cell_type": "code",
   "execution_count": 18,
   "id": "027784ac-9c54-4a36-963b-235e2485bf04",
   "metadata": {},
   "outputs": [],
   "source": [
    "model_name = 'Helsinki-NLP/opus-mt-zh-en'"
   ]
  },
  {
   "cell_type": "code",
   "execution_count": 19,
   "id": "138f762c-3144-4cd4-b9c1-cffec58770a6",
   "metadata": {},
   "outputs": [
    {
     "data": {
      "application/vnd.jupyter.widget-view+json": {
       "model_id": "a5d3ef54dfdf448f98ae634cd61abfc7",
       "version_major": 2,
       "version_minor": 0
      },
      "text/plain": [
       "Downloading:   0%|          | 0.00/44.0 [00:00<?, ?B/s]"
      ]
     },
     "metadata": {},
     "output_type": "display_data"
    },
    {
     "data": {
      "application/vnd.jupyter.widget-view+json": {
       "model_id": "f5c3b6adfa90458287ef894348889e30",
       "version_major": 2,
       "version_minor": 0
      },
      "text/plain": [
       "Downloading:   0%|          | 0.00/1.12k [00:00<?, ?B/s]"
      ]
     },
     "metadata": {},
     "output_type": "display_data"
    },
    {
     "data": {
      "application/vnd.jupyter.widget-view+json": {
       "model_id": "58742565dcc946c38111949247405a2a",
       "version_major": 2,
       "version_minor": 0
      },
      "text/plain": [
       "Downloading:   0%|          | 0.00/786k [00:00<?, ?B/s]"
      ]
     },
     "metadata": {},
     "output_type": "display_data"
    },
    {
     "data": {
      "application/vnd.jupyter.widget-view+json": {
       "model_id": "24a4c3a96e4e4fee902843799a2294de",
       "version_major": 2,
       "version_minor": 0
      },
      "text/plain": [
       "Downloading:   0%|          | 0.00/788k [00:00<?, ?B/s]"
      ]
     },
     "metadata": {},
     "output_type": "display_data"
    },
    {
     "data": {
      "application/vnd.jupyter.widget-view+json": {
       "model_id": "d8b040032d7b4feb9ceaba960c9079fe",
       "version_major": 2,
       "version_minor": 0
      },
      "text/plain": [
       "Downloading:   0%|          | 0.00/1.54M [00:00<?, ?B/s]"
      ]
     },
     "metadata": {},
     "output_type": "display_data"
    },
    {
     "data": {
      "application/vnd.jupyter.widget-view+json": {
       "model_id": "d7e88f99a00a4b2596e75445397858c8",
       "version_major": 2,
       "version_minor": 0
      },
      "text/plain": [
       "Downloading:   0%|          | 0.00/298M [00:00<?, ?B/s]"
      ]
     },
     "metadata": {},
     "output_type": "display_data"
    }
   ],
   "source": [
    "tokenizer = AutoTokenizer.from_pretrained(model_name)\n",
    "model = AutoModelForSeq2SeqLM.from_pretrained(model_name)"
   ]
  },
  {
   "cell_type": "code",
   "execution_count": 24,
   "id": "a3fa4550-beac-4b5c-86ba-6eb7e301da5d",
   "metadata": {},
   "outputs": [],
   "source": [
    "sentences = [\"我最喜欢的食物是即食面\"]\n",
    "inputs = tokenizer(sentences, return_tensors=\"pt\", padding=True)\n",
    "# inference\n",
    "output_sequences = model.generate(input_ids=inputs[\"input_ids\"],\n",
    "                                  attention_mask=inputs[\"attention_mask\"],\n",
    "                                  do_sample=False,\n",
    "                                  output_attentions=True,\n",
    "                                  output_hidden_states=True,\n",
    "                                  output_scores=True,\n",
    "                                  return_dict_in_generate=True)\n",
    "sequences = output_sequences['sequences']\n",
    "translated_sents = tokenizer.batch_decode(sequences, skip_special_tokens=True)"
   ]
  },
  {
   "cell_type": "code",
   "execution_count": 25,
   "id": "44f73b85-b257-4159-8adb-df2bff3d5a35",
   "metadata": {},
   "outputs": [
    {
     "data": {
      "text/plain": [
       "['My favorite food is instant noodles.']"
      ]
     },
     "execution_count": 25,
     "metadata": {},
     "output_type": "execute_result"
    }
   ],
   "source": [
    "translated_sents"
   ]
  },
  {
   "cell_type": "code",
   "execution_count": null,
   "id": "6a90f1ca-435f-4e6e-8caa-8295f95e2dc6",
   "metadata": {},
   "outputs": [],
   "source": []
  }
 ],
 "metadata": {
  "kernelspec": {
   "display_name": "Python 3",
   "language": "python",
   "name": "python3"
  },
  "language_info": {
   "codemirror_mode": {
    "name": "ipython",
    "version": 3
   },
   "file_extension": ".py",
   "mimetype": "text/x-python",
   "name": "python",
   "nbconvert_exporter": "python",
   "pygments_lexer": "ipython3",
   "version": "3.6.9"
  }
 },
 "nbformat": 4,
 "nbformat_minor": 5
}
